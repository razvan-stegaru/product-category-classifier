import pandas as pd
import numpy as np
import matplotlib.pyplot as plt
import seaborn as sns
from sklearn.model_selection import train_test_split
from sklearn.feature_extraction.text import TfidfVectorizer
from sklearn.linear_model import LogisticRegression
from sklearn.naive_bayes import MultinomialNB
from sklearn.ensemble import RandomForestClassifier
from sklearn.metrics import classification_report, confusion_matrix, accuracy_score
import nltk
from nltk.corpus import stopwords
import re

nltk.download("stopwords")

# =========================
# 2. Încărcare date
# =========================
df = pd.read_csv("../data/products.csv")
print("Dimensiune:", df.shape)
df.head()

# =========================
# 3. Curățare text
# =========================
def clean_text(text):
    text = text.lower()
    text = re.sub(r'[^a-zA-Z0-9\s]', '', text)
    stop = set(stopwords.words("english"))
    text = ' '.join([w for w in text.split() if w not in stop])
    return text

df["clean_title"] = df["Product Title"].astype(str).apply(clean_text)

# =========================
# 4. Explorare date
# =========================
plt.figure(figsize=(10,4))
df["Category Label"].value_counts().plot(kind='bar', color='teal')
plt.title("Distribuția categoriilor de produse")
plt.show()

df["title_length"] = df["Product Title"].apply(lambda x: len(x.split()))
sns.boxplot(x="Category Label", y="title_length", data=df)
plt.xticks(rotation=45)
plt.title("Lungimea titlurilor pe categorii")
plt.show()

# =========================
# 5. Împărțire date train/test
# =========================
X_train, X_test, y_train, y_test = train_test_split(df["clean_title"], df["Category Label"], test_size=0.2, random_state=42)

# =========================
# 6. Vectorizare TF-IDF
# =========================
vectorizer = TfidfVectorizer(max_features=5000)
X_train_vec = vectorizer.fit_transform(X_train)
X_test_vec = vectorizer.transform(X_test)

# =========================
# 7. Testare mai multe modele
# =========================
models = {
    "Logistic Regression": LogisticRegression(max_iter=200),
    "Naive Bayes": MultinomialNB(),
    "Random Forest": RandomForestClassifier(n_estimators=200)
}

results = {}

for name, model in models.items():
    model.fit(X_train_vec, y_train)
    y_pred = model.predict(X_test_vec)
    acc = accuracy_score(y_test, y_pred)
    results[name] = acc
    print(f"\n {name} - Accuracy: {acc:.4f}")
    print(classification_report(y_test, y_pred))

# =========================
# 8. Comparare modele
# =========================
plt.bar(results.keys(), results.values(), color=['#4caf50', '#2196f3', '#ff9800'])
plt.title("Comparare acuratețe modele")
plt.ylabel("Accuracy")
plt.show()

best_model_name = max(results, key=results.get)
print(f" Cel mai bun model: {best_model_name} (accuracy = {results[best_model_name]:.4f})")

# =========================
# 9. Salvare model final
# =========================
import joblib
final_model = models[best_model_name]
joblib.dump(final_model, "../models/model.pkl")
joblib.dump(vectorizer, "../models/vectorizer.pkl")

print("\n Modelul final și vectorizatorul au fost salvate în folderul 'models/'")